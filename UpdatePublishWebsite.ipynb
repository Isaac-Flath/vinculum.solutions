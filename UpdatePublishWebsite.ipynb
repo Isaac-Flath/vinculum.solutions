{
 "cells": [
  {
   "cell_type": "markdown",
   "source": [
    "# Website Instructions\n",
    "\n",
    "## To rebuild site and deploy\n",
    "\n",
    "Run this and it will convert blog posts to html and push to google cloud.  It may take a few hours for the changes to reflect on the website.\n",
    "\n",
    "## To add a blog post\n",
    "\n",
    "+ The notebook must be named in this format `yyyy-mm-dd-title`\n",
    "+ The first cell must be markdown and formatted in a particular way with particular information.  Look at the first cell in an existing blog post as reference.\n",
    "+ Blog posts are jupyter notebooks stored in `website/posts/notebooks/`.  Move any notebooks there - this notebook will pick them up and do the conversion to html for you.  For example: `cp WIP/example.ipynb website/posts/notebooks/2021-12-31-blogtitle.ipynb`"
   ],
   "metadata": {}
  },
  {
   "cell_type": "code",
   "execution_count": 11,
   "source": [
    "import os\n",
    "from fastcore.foundation import *\n",
    "from pathlib import Path"
   ],
   "outputs": [],
   "metadata": {}
  },
  {
   "cell_type": "code",
   "execution_count": 12,
   "source": [
    "posts_path = Path('./website/posts/')\n",
    "html_path = posts_path/'html'\n",
    "posts_path,html_path"
   ],
   "outputs": [
    {
     "output_type": "execute_result",
     "data": {
      "text/plain": [
       "(PosixPath('website/posts'), PosixPath('website/posts/html'))"
      ]
     },
     "metadata": {},
     "execution_count": 12
    }
   ],
   "metadata": {}
  },
  {
   "cell_type": "code",
   "execution_count": 13,
   "source": [
    "def nb_to_post(input_path=posts_path/'notebooks',output_path=html_path):\n",
    "    os.system(f\"rm ./{output_path}/*.html\")\n",
    "    os.system(f'jupyter nbconvert --to html {input_path}/*.ipynb') # eventually --template basic then css style\n",
    "    os.system(f\"mv ./{input_path}/*.html ./{output_path}/\")\n",
    "    \n",
    "nb_to_post()"
   ],
   "outputs": [
    {
     "output_type": "stream",
     "name": "stderr",
     "text": [
      "[NbConvertApp] Converting notebook website/posts/notebooks/2021-09-25-527 IRS Filings Data.ipynb to html\n",
      "[NbConvertApp] Writing 633492 bytes to website/posts/notebooks/2021-09-25-527 IRS Filings Data.html\n"
     ]
    }
   ],
   "metadata": {}
  },
  {
   "cell_type": "code",
   "execution_count": 14,
   "source": [
    "posts = L(os.listdir(html_path))\n",
    "posts.sort(reverse=True)     "
   ],
   "outputs": [],
   "metadata": {}
  },
  {
   "cell_type": "code",
   "execution_count": 15,
   "source": [
    "for post in [o for o in posts if o[-5:]=='.html']:\n",
    "\n",
    "    with open(html_path/post) as file: htmlfile = file.read()\n",
    "\n",
    "    section1 = htmlfile[:htmlfile.find(\"</body>\")]\n",
    "    section2 = htmlfile[htmlfile.find(\"</body>\"):]\n",
    "    new_section = '''\\n\\n<script src=\"postformatting.js\"></script>\\n\\n'''\n",
    "\n",
    "    new_html = section1+new_section+section2\n",
    "    \n",
    "    with open(html_path/post,'w') as file: file.write(new_html)"
   ],
   "outputs": [],
   "metadata": {}
  },
  {
   "cell_type": "code",
   "execution_count": 16,
   "source": [
    "def get_slice(file,start_str,end_str):\n",
    "    with open(file) as f:\n",
    "        tmp = f.read()    \n",
    "    slice1 = tmp[tmp.find(start_str)+len(start_str):]\n",
    "    out = slice1[:slice1.find(end_str)]\n",
    "    return out"
   ],
   "outputs": [],
   "metadata": {}
  },
  {
   "cell_type": "code",
   "execution_count": 17,
   "source": [
    "htmls = []\n",
    "for post in posts:\n",
    "    if post[-5:] != '.html': continue\n",
    "    date = post[:10]\n",
    "    \n",
    "    name_tmp = post[11:-5]\n",
    "    name = ''\n",
    "    for i, letter in enumerate(name_tmp):\n",
    "        if i and letter.isupper() and not name_tmp[i-1].isupper():\n",
    "            name += ' '\n",
    "        \n",
    "        name += letter  \n",
    "    description = get_slice(html_path/post,'Post Description:</strong> ','</p>')\n",
    "    tags = get_slice(html_path/post,'Post Categories:</strong> ','</p>')\n",
    "\n",
    "    htmls.append('<div class=\"smallblogdiv\">')\n",
    "    htmls.append(f'''<a class=\"postlink\" href=\"./posts/html/{post}\">{name}</a>''')\n",
    "    htmls.append(f'''<p class=\"postdescription\">{description}</p>''')\n",
    "    htmls.append(f'''<p class=\"posttags\">Tags: {tags}</p>''')\n",
    "    htmls.append(f'''<p class=\"postdate\">{date}</p>''')\n",
    "    htmls.append('''</div>''')\n",
    "htmls = '\\n              '.join(htmls)"
   ],
   "outputs": [],
   "metadata": {}
  },
  {
   "cell_type": "code",
   "execution_count": 18,
   "source": [
    "with open(posts_path/\"blog_template.html\") as f: tmp = f.read()\n",
    "tmp = tmp.replace('AUTOINSERTIONPOINT',htmls)\n",
    "with open(Path(\"website/blog.html\"),'w') as f: f.write(tmp)"
   ],
   "outputs": [],
   "metadata": {}
  },
  {
   "cell_type": "code",
   "execution_count": 19,
   "source": [
    "!gsutil -m rsync -d -r website/ gs://vinculum.solutions/"
   ],
   "outputs": [
    {
     "output_type": "stream",
     "name": "stdout",
     "text": [
      "\n",
      "\n",
      "Updates are available for some Cloud SDK components.  To install them,\n",
      "please run:\n",
      "  $ gcloud components update\n",
      "\n",
      "Building synchronization state...\n",
      "If you experience problems with multiprocessing on MacOS, they might be related to https://bugs.python.org/issue33725. You can disable multiprocessing by editing your .boto config or by adding the following flag to your command: `-o \"GSUtil:parallel_process_count=1\"`. Note that multithreading is still available even if you disable multiprocessing.\n",
      "\n",
      "Starting synchronization...\n",
      "If you experience problems with multiprocessing on MacOS, they might be related to https://bugs.python.org/issue33725. You can disable multiprocessing by editing your .boto config or by adding the following flag to your command: `-o \"GSUtil:parallel_process_count=1\"`. Note that multithreading is still available even if you disable multiprocessing.\n",
      "\n",
      "Removing gs://vinculum.solutions/archive_projects.html\n",
      "Copying file://website/assets.html [Content-Type=text/html]...\n",
      "Copying file://website/blog.html [Content-Type=text/html]...\n",
      "Removing gs://vinculum.solutions/posts/.ipynb_checkpoints/NB2HTML-checkpoint.ipynb\n",
      "Removing gs://vinculum.solutions/posts/.ipynb_checkpoints/blog_template-checkpoint.html\n",
      "Copying file://website/posts/.DS_Store [Content-Type=application/octet-stream]...\n",
      "Removing gs://vinculum.solutions/posts/NB2HTML.ipynb\n",
      "Removing gs://vinculum.solutions/posts/conversion.py\n",
      "Removing gs://vinculum.solutions/projects.html\n",
      "Copying file://website/posts/html/2021-09-25-527 IRS Filings Data.html [Content-Type=text/html]...\n"
     ]
    }
   ],
   "metadata": {}
  },
  {
   "cell_type": "code",
   "execution_count": null,
   "source": [],
   "outputs": [],
   "metadata": {}
  }
 ],
 "metadata": {
  "orig_nbformat": 4,
  "language_info": {
   "name": "python",
   "version": "3.9.5",
   "mimetype": "text/x-python",
   "codemirror_mode": {
    "name": "ipython",
    "version": 3
   },
   "pygments_lexer": "ipython3",
   "nbconvert_exporter": "python",
   "file_extension": ".py"
  },
  "kernelspec": {
   "name": "python3",
   "display_name": "Python 3.9.5 64-bit ('base': conda)"
  },
  "interpreter": {
   "hash": "569d6b7e9215e11aba41c6454007e5c1b78bad7df09dab765d8cf00362c40f03"
  }
 },
 "nbformat": 4,
 "nbformat_minor": 2
}
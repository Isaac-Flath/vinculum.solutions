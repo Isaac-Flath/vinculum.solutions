{
 "cells": [
  {
   "cell_type": "markdown",
   "metadata": {},
   "source": [
    "# Website Instructions\n",
    "\n",
    "## To rebuild site and deploy\n",
    "\n",
    "Run this and it will convert blog posts to html and push to google cloud.  It may take a few hours for the changes to reflect on the website.\n",
    "\n",
    "## To add a blog post\n",
    "\n",
    "+ The notebook must be named in this format `yyyy-mm-dd-title`\n",
    "+ The first cell must be markdown and formatted in a particular way with particular information.  Look at the first cell in an existing blog post as reference.\n",
    "+ Blog posts are jupyter notebooks stored in `website/posts/notebooks/`.  Move any notebooks there - this notebook will pick them up and do the conversion to html for you.  For example: `cp WIP/example.ipynb website/posts/notebooks/2021-12-31-blogtitle.ipynb`"
   ]
  },
  {
   "cell_type": "code",
   "execution_count": 52,
   "metadata": {},
   "outputs": [],
   "source": [
    "import os\n",
    "from fastcore.foundation import *\n",
    "from pathlib import Path"
   ]
  },
  {
   "cell_type": "code",
   "execution_count": 53,
   "metadata": {},
   "outputs": [],
   "source": [
    "\n",
    "header = '''\n",
    "  <header id=\"header\" class=\"header\">\n",
    "    <!--Logo-->\n",
    "      <a class=\"logo\" href=\"index.html\"></a>\n",
    "     <!--Navbar-->\n",
    "     <nav class=\"navbar\">\n",
    "       <ul class=\"menu-items\">\n",
    "              <li><a class=\"menu-item\" href=\"../../index.html\">HOME</a></li>\n",
    "              <li><a class=\"menu-item\" href=\"../../assets.html\">DATA ASSETS</a></li>\n",
    "             <li><a class=\"menu-item\" href=\"../../blog.html\">BLOG</a></li>\n",
    "           </nav>\n",
    "         </li>\n",
    "       </header>\n",
    "       <br><br><br><br><br><br>\n",
    "'''\n",
    "\n",
    "css = '''\n",
    "\n",
    "\n",
    "  .header {\n",
    "    background:rgba(3, 3, 3, .5);\n",
    "    box-shadow: 0 8px 32px 0 rgba(31,38,135,0.37);\n",
    "    backdrop-filter: blur(5px);\n",
    "    -webkit-backdrop-filter: blur(5px);\n",
    "    border: 1px solid rgba(255,255,255,0.18);\n",
    "    position: fixed;\n",
    "    width: 90vw;\n",
    "    margin: auto;\n",
    "    display: flex;\n",
    "    align-items: center;\n",
    "    justify-content: space-between;\n",
    "    padding: 1rem 1.8rem;\n",
    "    z-index: 1;\n",
    "  }\n",
    "\n",
    "  .header a {\n",
    "    text-decoration: none;\n",
    "    color: #EAEAEA;\n",
    "    font-size: calc(0.85rem + 1vw);\n",
    "    font-weight: 600;\n",
    "    letter-spacing: 0.1rem;\n",
    "  }\n",
    "\n",
    "  .menu-items {\n",
    "    display: flex;\n",
    "    align-items: center;\n",
    "  }\n",
    ".menu-items li {\n",
    "  list-style-type: none;\n",
    "}\n",
    "  .menu-items li a {\n",
    "    padding: 0.5rem 1rem;\n",
    "    transition: background 0.3s ease-in-out;\n",
    "    position: relative;\n",
    "  }\n",
    "\n",
    "/* Hover effect main nav buttons */\n",
    "  .menu-items li a:link::before,\n",
    "  .menu-items li a:visited::before,\n",
    "  .menu-items li a:link::after,\n",
    "  .menu-items li a:visited::after {\n",
    "  content: \"\";\n",
    "  position: absolute;\n",
    "  left: 0;\n",
    "  width: 95%;\n",
    "  height: 0.3rem;\n",
    "  background-color: #FF2E63;\n",
    "  transform: scaleX(0);\n",
    "  transition: transform 0.6s cubic-bezier(1, 0, 0, 1);\n",
    "  }\n",
    "\n",
    "  .menu-items li a:link::before,\n",
    "  .menu-items li a:visited::before {\n",
    "    bottom: 0;\n",
    "    transform-origin: left;\n",
    "  }\n",
    "\n",
    "  .menu-items li a:link::after,\n",
    "  .menu-items li a:visited::after {\n",
    "    bottom: 0;\n",
    "    transform-origin: left;\n",
    "  }\n",
    "\n",
    "  .menu-items li a:hover::before,\n",
    "  .menu-items li a:active::before,\n",
    "  .menu-items li a:hover::after,\n",
    "  .menu-items li a:active::after {\n",
    "    transform: scaleX(1);\n",
    "  }\n",
    "\n",
    "  span.button {\n",
    "    color: #FF2E63;\n",
    "  }'''"
   ]
  },
  {
   "cell_type": "code",
   "execution_count": 54,
   "metadata": {},
   "outputs": [
    {
     "data": {
      "text/plain": [
       "(PosixPath('website/posts'), PosixPath('website/posts/html'))"
      ]
     },
     "execution_count": 54,
     "metadata": {},
     "output_type": "execute_result"
    }
   ],
   "source": [
    "posts_path = Path('./website/posts/')\n",
    "html_path = posts_path/'html'\n",
    "posts_path,html_path"
   ]
  },
  {
   "cell_type": "code",
   "execution_count": 55,
   "metadata": {},
   "outputs": [
    {
     "name": "stderr",
     "output_type": "stream",
     "text": [
      "[NbConvertApp] Converting notebook website/posts/notebooks/2021-09-25-527 IRS Filings Data.ipynb to html\n",
      "[NbConvertApp] Writing 633492 bytes to website/posts/notebooks/2021-09-25-527 IRS Filings Data.html\n"
     ]
    }
   ],
   "source": [
    "def nb_to_post(input_path=posts_path/'notebooks',output_path=html_path):\n",
    "    os.system(f\"rm ./{output_path}/*.html\")\n",
    "    os.system(f'jupyter nbconvert --to html {input_path}/*.ipynb') # eventually --template basic then css style\n",
    "    os.system(f\"mv ./{input_path}/*.html ./{output_path}/\")\n",
    "    \n",
    "\n",
    "nb_to_post()"
   ]
  },
  {
   "cell_type": "code",
   "execution_count": 56,
   "metadata": {},
   "outputs": [
    {
     "name": "stdout",
     "output_type": "stream",
     "text": [
      "2021-09-25-527 IRS Filings Data.html\n"
     ]
    }
   ],
   "source": [
    "def inject_header(html_path=html_path):\n",
    "    html_files = [o for o in os.listdir(html_path) if o.endswith('.html')]\n",
    "    for html_file in html_files:    \n",
    "        print(html_file)\n",
    "        with open(f\"./{html_path}/{html_file}\",'r') as f: html = f.readlines()\n",
    "        css_done=False\n",
    "        for i,line in enumerate(html):\n",
    "            if line.startswith(\"<body\"): html[i] = line + header\n",
    "            if line.startswith('<style type=\"text/css\">') and (css_done==False): \n",
    "                css_done = True\n",
    "                html[i] = line + css\n",
    "\n",
    "        with open(f\"./{html_path}/{html_file}\",'w') as f: f.write('\\n'.join(html))\n",
    "\n",
    "    \n",
    "inject_header()"
   ]
  },
  {
   "cell_type": "code",
   "execution_count": 57,
   "metadata": {},
   "outputs": [],
   "source": [
    "posts = L(os.listdir(html_path))\n",
    "posts.sort(reverse=True)     "
   ]
  },
  {
   "cell_type": "code",
   "execution_count": 58,
   "metadata": {},
   "outputs": [],
   "source": [
    "for post in [o for o in posts if o[-5:]=='.html']:\n",
    "\n",
    "    with open(html_path/post) as file: htmlfile = file.read()\n",
    "\n",
    "    section1 = htmlfile[:htmlfile.find(\"</body>\")]\n",
    "    section2 = htmlfile[htmlfile.find(\"</body>\"):]\n",
    "    new_section = '''\\n\\n<script src=\"postformatting.js\"></script>\\n\\n'''\n",
    "\n",
    "    new_html = section1+new_section+section2\n",
    "    \n",
    "    with open(html_path/post,'w') as file: file.write(new_html)"
   ]
  },
  {
   "cell_type": "code",
   "execution_count": 59,
   "metadata": {},
   "outputs": [],
   "source": [
    "def get_slice(file,start_str,end_str):\n",
    "    with open(file) as f:\n",
    "        tmp = f.read()    \n",
    "    slice1 = tmp[tmp.find(start_str)+len(start_str):]\n",
    "    out = slice1[:slice1.find(end_str)]\n",
    "    return out"
   ]
  },
  {
   "cell_type": "code",
   "execution_count": 60,
   "metadata": {},
   "outputs": [],
   "source": [
    "htmls = []\n",
    "for post in posts:\n",
    "    if post[-5:] != '.html': continue\n",
    "    date = post[:10]\n",
    "    \n",
    "    name_tmp = post[11:-5]\n",
    "    name = ''\n",
    "    for i, letter in enumerate(name_tmp):\n",
    "        if i and letter.isupper() and not name_tmp[i-1].isupper():\n",
    "            name += ' '\n",
    "        \n",
    "        name += letter  \n",
    "    description = get_slice(html_path/post,'Post Description:</strong> ','</p>')\n",
    "    tags = get_slice(html_path/post,'Post Categories:</strong> ','</p>')\n",
    "\n",
    "    htmls.append('<div class=\"smallblogdiv\">')\n",
    "    htmls.append(f'''<a class=\"postlink\" href=\"./posts/html/{post}\">{name}</a>''')\n",
    "    htmls.append(f'''<p class=\"postdescription\">{description}</p>''')\n",
    "    htmls.append(f'''<p class=\"posttags\">Tags: {tags}</p>''')\n",
    "    htmls.append(f'''<p class=\"postdate\">{date}</p>''')\n",
    "    htmls.append('''</div>''')\n",
    "htmls = '\\n              '.join(htmls)"
   ]
  },
  {
   "cell_type": "code",
   "execution_count": 61,
   "metadata": {},
   "outputs": [],
   "source": [
    "with open(posts_path/\"blog_template.html\") as f: tmp = f.read()\n",
    "tmp = tmp.replace('AUTOINSERTIONPOINT',htmls)\n",
    "\n",
    "with open(Path(\"website/blog.html\"),'w') as f: f.write(tmp)"
   ]
  },
  {
   "cell_type": "code",
   "execution_count": 62,
   "metadata": {},
   "outputs": [
    {
     "name": "stdout",
     "output_type": "stream",
     "text": [
      "Building synchronization state...\n",
      "If you experience problems with multiprocessing on MacOS, they might be related to https://bugs.python.org/issue33725. You can disable multiprocessing by editing your .boto config or by adding the following flag to your command: `-o \"GSUtil:parallel_process_count=1\"`. Note that multithreading is still available even if you disable multiprocessing.\n",
      "\n",
      "Starting synchronization...\n",
      "If you experience problems with multiprocessing on MacOS, they might be related to https://bugs.python.org/issue33725. You can disable multiprocessing by editing your .boto config or by adding the following flag to your command: `-o \"GSUtil:parallel_process_count=1\"`. Note that multithreading is still available even if you disable multiprocessing.\n",
      "\n",
      "Copying file://website/blog.html [Content-Type=text/html]...\n",
      "Removing gs://vinculum.solutions/posts/notebooks/.ipynb_checkpoints/2021-09-25-527 IRS Filings Data-checkpoint.ipynb\n",
      "Copying file://website/index.js [Content-Type=application/javascript]...\n",
      "Copying file://website/posts/html/2021-09-25-527 IRS Filings Data.html [Content-Type=text/html]...\n",
      "Copying file://website/style.css [Content-Type=text/css]...                     \n",
      "- [4/5 files][647.6 KiB/647.6 KiB]  99% Done                                    \r"
     ]
    }
   ],
   "source": [
    "!gsutil -m rsync -d -r website/ gs://vinculum.solutions/"
   ]
  },
  {
   "cell_type": "code",
   "execution_count": null,
   "metadata": {},
   "outputs": [],
   "source": []
  }
 ],
 "metadata": {
  "interpreter": {
   "hash": "569d6b7e9215e11aba41c6454007e5c1b78bad7df09dab765d8cf00362c40f03"
  },
  "kernelspec": {
   "display_name": "Python 3 (ipykernel)",
   "language": "python",
   "name": "python3"
  },
  "language_info": {
   "codemirror_mode": {
    "name": "ipython",
    "version": 3
   },
   "file_extension": ".py",
   "mimetype": "text/x-python",
   "name": "python",
   "nbconvert_exporter": "python",
   "pygments_lexer": "ipython3",
   "version": "3.9.5"
  }
 },
 "nbformat": 4,
 "nbformat_minor": 4
}

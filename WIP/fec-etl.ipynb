{
 "cells": [
  {
   "cell_type": "code",
   "execution_count": null,
   "metadata": {},
   "outputs": [],
   "source": [
    "https://www.fec.gov/files/bulk-downloads/2022/cn22.zip\n",
    "https://www.fec.gov/files/bulk-downloads/2020/weball20.zip"
   ]
  },
  {
   "cell_type": "code",
   "execution_count": 1,
   "metadata": {},
   "outputs": [],
   "source": [
    "import urllib\n",
    "import os, sys, shutil\n",
    "import csv, io, zipfile, pickle\n",
    "import logging\n",
    "import requests\n",
    "import pandas as pd \n",
    "from IPython.display import clear_output\n",
    "\n",
    "from fastcore.all import *\n",
    "from datetime import datetime\n",
    "from collections import defaultdict\n",
    "\n",
    "from download_utils import unzip_file, download_file\n",
    "\n",
    "from pathlib import Path\n",
    "logger = logging.getLogger(name=\"jupyter\")\n",
    "if len(logger.handlers) == 0: logger.addHandler(logging.StreamHandler(stream=sys.stdout))\n",
    "logger.setLevel(logging.INFO)"
   ]
  },
  {
   "cell_type": "code",
   "execution_count": 2,
   "metadata": {},
   "outputs": [],
   "source": [
    "config =[\n",
    "    ['all_candidates','weball'],\n",
    "    ['candidate_master','cn'],\n",
    "    ['candidate_comitte_lnkages','ccl'],\n",
    "    ['house_senate_current_campaigns','webl'],\n",
    "    ['comittee_master','cm'],\n",
    "    ['pac_summary','webk'],\n",
    "    ['contributions_by_individuals','indiv'],\n",
    "    ['contributions_from_comittees','pas2'],\n",
    "    ['trans_comittee_comittee','oth'],\n",
    "    ['operating_expenditures','oppexp']\n",
    "    ]\n",
    "\n",
    "\n",
    "# Putting this here as a reminder to deal with fec files eventually\n",
    "fec_files = ['electronically_filed_reports','https://cg-519a459a-0ea3-42c2-b7bc-fa1143481f74.s3-us-gov-west-1.amazonaws.com/bulk-downloads/index.html?prefix=bulk-downloads/electronic/',\n",
    "             'paper_filed_reports','https://cg-519a459a-0ea3-42c2-b7bc-fa1143481f74.s3-us-gov-west-1.amazonaws.com/bulk-downloads/index.html?prefix=bulk-downloads/paper/']\n"
   ]
  },
  {
   "cell_type": "markdown",
   "metadata": {},
   "source": [
    "# Download and Unzip"
   ]
  },
  {
   "cell_type": "code",
   "execution_count": 3,
   "metadata": {},
   "outputs": [
    {
     "name": "stdout",
     "output_type": "stream",
     "text": [
      "b'        <p class=\"icon-download--inline--left\"><a href=\"https://cg-519a459a-0ea3-42c2-b7bc-fa1143481f74.s3-us-gov-west-1.amazonaws.com/bulk-downloads/electronic/eFilingFormats.zip\">File formats, header file and metadata</a></p>\\n'\n",
      "b'        <p class=\"icon-download--inline--left\"><a href=\"https://cg-519a459a-0ea3-42c2-b7bc-fa1143481f74.s3-us-gov-west-1.amazonaws.com/bulk-downloads/paper/PaperFormats.zip\">File formats, header file and metadata</a></p>\\n'\n"
     ]
    }
   ],
   "source": [
    "u2 = urllib.request.urlopen('https://www.fec.gov/data/browse-data/?tab=bulk-data')\n",
    "\n",
    "fname_bases = [o[1] for o in config]\n",
    "fnames = L()\n",
    "dl_dir = Path('data/fec/')\n",
    "url_base = 'https://www.fec.gov'\n",
    "\n",
    "for lines in u2.readlines():\n",
    "    lstr = str(lines)\n",
    "    if '.zip' in lstr:\n",
    "        if any(substring in lstr for substring in fname_bases):\n",
    "            fname = Path(lstr[lstr.find('/files/bulk-downloads/'):lstr.find('.zip')+4])\n",
    "\n",
    "            url = url_base + str(fname)\n",
    "            dl_fname = dl_dir/'zipped'/fname.name\n",
    "            download_file(url, dl_fname)\n",
    "\n",
    "            unzip_fname = dl_dir/'unzipped'/fname.name.replace('.zip','')\n",
    "            unzip_file(dl_fname,unzip_fname)\n",
    "        else:\n",
    "            print(lstr)"
   ]
  },
  {
   "cell_type": "code",
   "execution_count": 5,
   "metadata": {},
   "outputs": [],
   "source": [
    "\n",
    "\n"
   ]
  },
  {
   "cell_type": "code",
   "execution_count": null,
   "metadata": {},
   "outputs": [],
   "source": []
  }
 ],
 "metadata": {
  "interpreter": {
   "hash": "4a7f1ebfaddf68725d4796cad0ddde8ff8a752ccfc0551e8ea50b332ad07ecb7"
  },
  "kernelspec": {
   "display_name": "Python 3 (ipykernel)",
   "language": "python",
   "name": "python3"
  },
  "language_info": {
   "codemirror_mode": {
    "name": "ipython",
    "version": 3
   },
   "file_extension": ".py",
   "mimetype": "text/x-python",
   "name": "python",
   "nbconvert_exporter": "python",
   "pygments_lexer": "ipython3",
   "version": "3.8.12"
  }
 },
 "nbformat": 4,
 "nbformat_minor": 4
}

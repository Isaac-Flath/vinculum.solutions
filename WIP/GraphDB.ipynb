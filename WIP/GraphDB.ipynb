{
 "cells": [
  {
   "cell_type": "code",
   "execution_count": 9,
   "id": "8410c695",
   "metadata": {},
   "outputs": [],
   "source": [
    "pip install -Uqq rdflib"
   ]
  },
  {
   "cell_type": "code",
   "execution_count": 3,
   "id": "714747a1",
   "metadata": {},
   "outputs": [
    {
     "name": "stdout",
     "output_type": "stream",
     "text": [
      "Note: you may need to restart the kernel to use updated packages.\n"
     ]
    }
   ],
   "source": [
    "pip install -Uqq ipykernel"
   ]
  },
  {
   "cell_type": "code",
   "execution_count": 5,
   "id": "bce489a9-5bd3-40c0-ad7a-b67d24103a64",
   "metadata": {},
   "outputs": [
    {
     "name": "stdout",
     "output_type": "stream",
     "text": [
      "Note: you may need to restart the kernel to use updated packages.\n"
     ]
    }
   ],
   "source": [
    "pip install -Uqq rdflib"
   ]
  },
  {
   "cell_type": "code",
   "execution_count": 202,
   "id": "aa082ab7",
   "metadata": {},
   "outputs": [],
   "source": [
    "import pandas as pd\n",
    "import pickle\n",
    "from rdflib import Graph, Literal, RDF, URIRef\n",
    "from rdflib import Namespace\n",
    "import uuid"
   ]
  },
  {
   "cell_type": "code",
   "execution_count": 203,
   "id": "307a9fbd",
   "metadata": {},
   "outputs": [],
   "source": [
    "# tmp = pickle.load(open('data/irs-filings/processed_lists.pickle','rb'))\n",
    "# tmp.keys()\n",
    "# df8871 = pd.DataFrame(tmp['1']).sample(500).copy()\n",
    "# directorsdf = pd.DataFrame(tmp['D']).copy()\n",
    "# directorsdf = directorsdf[directorsdf.ein.isin(df8871.ein)]\n",
    "# df8871.to_pickle('8871sample.pickle')\n",
    "# directorsdf.to_pickle('directorssample.pickle')"
   ]
  },
  {
   "cell_type": "code",
   "execution_count": 204,
   "id": "0bb7f8c7-a67d-4fd6-870b-1b9e984a7eda",
   "metadata": {},
   "outputs": [],
   "source": [
    "df8871 = pd.read_pickle('8871sample.pickle')\n",
    "directorsdf = pd.read_pickle('directorssample.pickle')"
   ]
  },
  {
   "cell_type": "code",
   "execution_count": 205,
   "id": "82c8aa6b-7116-45bd-9177-9fb22751d5fa",
   "metadata": {},
   "outputs": [
    {
     "data": {
      "text/html": [
       "<div>\n",
       "<style scoped>\n",
       "    .dataframe tbody tr th:only-of-type {\n",
       "        vertical-align: middle;\n",
       "    }\n",
       "\n",
       "    .dataframe tbody tr th {\n",
       "        vertical-align: top;\n",
       "    }\n",
       "\n",
       "    .dataframe thead th {\n",
       "        text-align: right;\n",
       "    }\n",
       "</style>\n",
       "<table border=\"1\" class=\"dataframe\">\n",
       "  <thead>\n",
       "    <tr style=\"text-align: right;\">\n",
       "      <th></th>\n",
       "      <th>form_id_number</th>\n",
       "      <th>director_id</th>\n",
       "      <th>ein</th>\n",
       "      <th>entity_name</th>\n",
       "      <th>entity_title</th>\n",
       "      <th>entity_address_1</th>\n",
       "      <th>entity_address_2</th>\n",
       "      <th>entity_address_city</th>\n",
       "      <th>entity_address_st</th>\n",
       "      <th>entity_address_zip_code</th>\n",
       "      <th>entity_address_zip_code_ext</th>\n",
       "    </tr>\n",
       "  </thead>\n",
       "  <tbody>\n",
       "    <tr>\n",
       "      <th>787</th>\n",
       "      <td>305.0</td>\n",
       "      <td>42980.0</td>\n",
       "      <td>011111111</td>\n",
       "      <td>RANDY POMBO</td>\n",
       "      <td>TRUSTEE</td>\n",
       "      <td>28375 S. CHRISMAN RD.</td>\n",
       "      <td>None</td>\n",
       "      <td>TRACY</td>\n",
       "      <td>CA</td>\n",
       "      <td>95304</td>\n",
       "      <td>None</td>\n",
       "    </tr>\n",
       "  </tbody>\n",
       "</table>\n",
       "</div>"
      ],
      "text/plain": [
       "     form_id_number  director_id        ein  entity_name entity_title  \\\n",
       "787           305.0      42980.0  011111111  RANDY POMBO      TRUSTEE   \n",
       "\n",
       "          entity_address_1 entity_address_2 entity_address_city  \\\n",
       "787  28375 S. CHRISMAN RD.             None               TRACY   \n",
       "\n",
       "    entity_address_st entity_address_zip_code entity_address_zip_code_ext  \n",
       "787                CA                   95304                        None  "
      ]
     },
     "metadata": {},
     "output_type": "display_data"
    }
   ],
   "source": [
    "# display(df8871.head(1))\n",
    "directorsdf = directorsdf[['form_id_number', 'director_id', 'ein',\n",
    "                           'entity_name', 'entity_title', 'entity_address_1', 'entity_address_2',\n",
    "                           'entity_address_city', 'entity_address_st', 'entity_address_zip_code',\n",
    "                           'entity_address_zip_code_ext']]\n",
    "display(directorsdf.head(1))"
   ]
  },
  {
   "cell_type": "code",
   "execution_count": 206,
   "id": "ca81523a-282d-4f9b-9892-5e4c9af50928",
   "metadata": {},
   "outputs": [],
   "source": [
    "parent_things_config = {'form_id_number':'document:form8871','ein':'organization:527'}\n",
    "main_thing_config = {'director_id':'person'}"
   ]
  },
  {
   "cell_type": "code",
   "execution_count": 207,
   "id": "0003117d-70dc-4893-9d63-ee454079d76c",
   "metadata": {},
   "outputs": [],
   "source": [
    "def get_uid(): return uuid.uuid1().hex\n",
    "\n",
    "def get_uids(df,column,prefix):\n",
    "    unique_values = df[column].unique()\n",
    "    uids = {o:URIRef(f\"{prefix}:{get_uid()}\") for o in unique_values}\n",
    "    return uids"
   ]
  },
  {
   "cell_type": "code",
   "execution_count": 208,
   "id": "4d2be634-8192-495a-b0d1-c4747737b457",
   "metadata": {},
   "outputs": [],
   "source": [
    "parent_uids,main_uids = {},{}\n",
    "\n",
    "for key in parent_things_config:\n",
    "    parent_uids[key] = get_uids(directorsdf,key,parent_things[key])\n",
    "    \n",
    "key = [o for o in main_thing_config.keys()][0]\n",
    "main_uids[key] = get_uids(directorsdf,key,main_thing_config[key])"
   ]
  },
  {
   "cell_type": "code",
   "execution_count": 209,
   "id": "3f623d44-60ec-4688-a950-adc1aececad5",
   "metadata": {},
   "outputs": [],
   "source": [
    "g = Graph()\n",
    "\n",
    "main_thing = 'director_id'\n",
    "value = Namespace('value')\n",
    "all_things = [main_thing] + [o[0] for o in parent_things]\n",
    "for index,row in enumerate(directorsdf.iterrows()):\n",
    "    center_node_ref = f\"{'director_id'}:{main_uids['director_id'][row[1]['director_id']]}\"\n",
    "    center_node = URIRef(center_node_ref)\n",
    "    \n",
    "    for field in row[1].iteritems():\n",
    "        if field[0] in parent_things.keys():\n",
    "            parent_node = f\"{parent_uids[field[0]][field[1]]}\"\n",
    "            tmp_thing = URIRef(parent_node)\n",
    "            g.add((center_node,URIRef(f\"value_{field[0]}\"),tmp_thing))\n",
    "        else:\n",
    "            g.add((center_node,URIRef(f\"value_{field[0]}\"),Literal(field[1])))\n",
    "\n",
    "g.bind(\"val\", value)\n",
    "\n",
    "# print(g.serialize(format='n3'))"
   ]
  },
  {
   "cell_type": "code",
   "execution_count": 210,
   "id": "91667bf2-e7d1-4264-8724-e4f307910ed8",
   "metadata": {},
   "outputs": [
    {
     "data": {
      "text/plain": [
       "<Graph identifier=N0490056607674db0bda7750f9d4d7b9d (<class 'rdflib.graph.Graph'>)>"
      ]
     },
     "execution_count": 210,
     "metadata": {},
     "output_type": "execute_result"
    }
   ],
   "source": [
    "g.serialize(destination='director.txt', format='turtle')"
   ]
  },
  {
   "cell_type": "code",
   "execution_count": 201,
   "id": "8faa97f2-c92b-4267-ba0f-93d15044554c",
   "metadata": {},
   "outputs": [],
   "source": []
  }
 ],
 "metadata": {
  "kernelspec": {
   "display_name": "Python 3 (ipykernel)",
   "language": "python",
   "name": "python3"
  },
  "language_info": {
   "codemirror_mode": {
    "name": "ipython",
    "version": 3
   },
   "file_extension": ".py",
   "mimetype": "text/x-python",
   "name": "python",
   "nbconvert_exporter": "python",
   "pygments_lexer": "ipython3",
   "version": "3.9.5"
  }
 },
 "nbformat": 4,
 "nbformat_minor": 5
}

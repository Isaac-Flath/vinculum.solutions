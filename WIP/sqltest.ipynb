{
 "cells": [
  {
   "cell_type": "code",
   "execution_count": null,
   "id": "ada46a0c-0704-4f06-abcb-481f0cd48512",
   "metadata": {},
   "outputs": [],
   "source": [
    "pip install mysql-connector-python"
   ]
  },
  {
   "cell_type": "code",
   "execution_count": 51,
   "id": "09dbc893-6479-4346-bc47-f468fc7c6331",
   "metadata": {},
   "outputs": [
    {
     "name": "stdout",
     "output_type": "stream",
     "text": [
      "Requirement already satisfied: pymysql in /opt/miniconda3/lib/python3.9/site-packages (1.0.2)\n",
      "Note: you may need to restart the kernel to use updated packages.\n"
     ]
    }
   ],
   "source": [
    "pip install pymysql"
   ]
  },
  {
   "cell_type": "code",
   "execution_count": 52,
   "id": "75f8ee93-c539-46b5-bdbf-d4bc9ae6dc01",
   "metadata": {},
   "outputs": [
    {
     "name": "stdout",
     "output_type": "stream",
     "text": [
      "Collecting mysql-connector\n",
      "  Downloading mysql-connector-2.2.9.tar.gz (11.9 MB)\n",
      "\u001b[K     |████████████████████████████████| 11.9 MB 2.0 MB/s eta 0:00:01\n",
      "\u001b[?25hBuilding wheels for collected packages: mysql-connector\n",
      "  Building wheel for mysql-connector (setup.py) ... \u001b[?25ldone\n",
      "\u001b[?25h  Created wheel for mysql-connector: filename=mysql_connector-2.2.9-cp39-cp39-macosx_10_9_x86_64.whl size=247953 sha256=e8a278d8b29107d2e116ecff0f82610d62c098531a8aefd55c28fc1086f0539f\n",
      "  Stored in directory: /Users/isaacflath/Library/Caches/pip/wheels/7b/14/39/5aad423666e827dfe9a1fbcd111ac17171e7c9865d570780ce\n",
      "Successfully built mysql-connector\n",
      "Installing collected packages: mysql-connector\n",
      "Successfully installed mysql-connector-2.2.9\n",
      "Note: you may need to restart the kernel to use updated packages.\n"
     ]
    }
   ],
   "source": [
    "pip install mysql-connector"
   ]
  },
  {
   "cell_type": "code",
   "execution_count": 58,
   "id": "686082f5-c134-466a-b8be-399d121ae595",
   "metadata": {},
   "outputs": [],
   "source": [
    "# pip install mysqlclient"
   ]
  },
  {
   "cell_type": "code",
   "execution_count": 59,
   "id": "47a3826f-9355-4ef8-bc0f-4f7bc0d3a017",
   "metadata": {},
   "outputs": [],
   "source": [
    "# from sqlalchemy import create_engine\n",
    "\n",
    "# db_connect_string=f\"mysql+mysqldb://root:{config['password']}@{config['host']}:3306/political_influence\"\n",
    "# ssl_args = {'ssl': {'cert':config['ssl_cert'], 'key':config['ssl_key'], 'ca':config['ssl_ca']}}\n",
    "# engine = create_engine(db_connect_string, connect_args=ssl_args)\n",
    "\n",
    "# print(engine.table_names())"
   ]
  },
  {
   "cell_type": "code",
   "execution_count": 102,
   "id": "03beadd0-6381-4e42-80e0-89a2561f2846",
   "metadata": {},
   "outputs": [],
   "source": [
    "import os"
   ]
  },
  {
   "cell_type": "code",
   "execution_count": 113,
   "id": "8a0281a4-05ec-42ac-a9e6-3326fcb8e0cd",
   "metadata": {},
   "outputs": [],
   "source": [
    "import mysql.connector\n",
    "from mysql.connector.constants import ClientFlag\n",
    "\n",
    "config = {\n",
    "    'user': 'root',\n",
    "    'password': '0eD0fC65pknAb2ud',\n",
    "    'host': '35.221.43.230',\n",
    "    'client_flags': [ClientFlag.SSL],\n",
    "    'ssl_ca': '/Users/isaacflath/ssh/server-ca.pem',\n",
    "    'ssl_cert': '/Users/isaacflath/ssh/client-cert.pem',\n",
    "    'ssl_key': '/Users/isaacflath/ssh/client-key.pem',\n",
    "    'database':'political_influence'\n",
    "}"
   ]
  },
  {
   "cell_type": "code",
   "execution_count": 114,
   "id": "b7ba93df-7914-4d82-8575-1a1dd8a9112e",
   "metadata": {},
   "outputs": [],
   "source": [
    "cnxn = mysql.connector.connect(**config)"
   ]
  },
  {
   "cell_type": "code",
   "execution_count": 115,
   "id": "b398356d-98eb-4857-a01a-b670f07b22fd",
   "metadata": {},
   "outputs": [],
   "source": [
    "cursor = cnxn.cursor()  # initialize connection cursor"
   ]
  },
  {
   "cell_type": "code",
   "execution_count": 134,
   "id": "b4956d7c-7861-417f-b3da-426e08ecb1c5",
   "metadata": {},
   "outputs": [
    {
     "data": {
      "text/html": [
       "<div>\n",
       "<style scoped>\n",
       "    .dataframe tbody tr th:only-of-type {\n",
       "        vertical-align: middle;\n",
       "    }\n",
       "\n",
       "    .dataframe tbody tr th {\n",
       "        vertical-align: top;\n",
       "    }\n",
       "\n",
       "    .dataframe thead th {\n",
       "        text-align: right;\n",
       "    }\n",
       "</style>\n",
       "<table border=\"1\" class=\"dataframe\">\n",
       "  <thead>\n",
       "    <tr style=\"text-align: right;\">\n",
       "      <th></th>\n",
       "      <th>record_type</th>\n",
       "      <th>form_id_number</th>\n",
       "      <th>director_id</th>\n",
       "      <th>org_name</th>\n",
       "      <th>ein</th>\n",
       "      <th>entity_name</th>\n",
       "      <th>entity_title</th>\n",
       "      <th>entity_address_1</th>\n",
       "      <th>entity_address_2</th>\n",
       "      <th>entity_address_city</th>\n",
       "      <th>entity_address_st</th>\n",
       "      <th>entity_address_zip_code</th>\n",
       "      <th>entity_address_zip_code_ext</th>\n",
       "    </tr>\n",
       "  </thead>\n",
       "  <tbody>\n",
       "    <tr>\n",
       "      <th>0</th>\n",
       "      <td>D</td>\n",
       "      <td>305</td>\n",
       "      <td>42980</td>\n",
       "      <td>WE THE PEOPLE TRUST INTERNATIONAL</td>\n",
       "      <td>11111111</td>\n",
       "      <td>RANDY POMBO</td>\n",
       "      <td>TRUSTEE</td>\n",
       "      <td>28375 S. CHRISMAN RD.</td>\n",
       "      <td>None</td>\n",
       "      <td>TRACY</td>\n",
       "      <td>CA</td>\n",
       "      <td>95304</td>\n",
       "      <td>None</td>\n",
       "    </tr>\n",
       "    <tr>\n",
       "      <th>1</th>\n",
       "      <td>D</td>\n",
       "      <td>305</td>\n",
       "      <td>42981</td>\n",
       "      <td>WE THE PEOPLE TRUST INTERNATIONAL</td>\n",
       "      <td>11111111</td>\n",
       "      <td>CLIVE WILSHIRE</td>\n",
       "      <td>TRUSTEE</td>\n",
       "      <td>38 CLEVES WAY</td>\n",
       "      <td>None</td>\n",
       "      <td>HAMPTON</td>\n",
       "      <td>CA</td>\n",
       "      <td>94001</td>\n",
       "      <td>None</td>\n",
       "    </tr>\n",
       "    <tr>\n",
       "      <th>2</th>\n",
       "      <td>D</td>\n",
       "      <td>305</td>\n",
       "      <td>42982</td>\n",
       "      <td>WE THE PEOPLE TRUST INTERNATIONAL</td>\n",
       "      <td>11111111</td>\n",
       "      <td>GEORGE GLADIUS</td>\n",
       "      <td>TRUSTEE</td>\n",
       "      <td>21 NO. SCHOOL ST.</td>\n",
       "      <td>None</td>\n",
       "      <td>LODI</td>\n",
       "      <td>CA</td>\n",
       "      <td>95240</td>\n",
       "      <td>None</td>\n",
       "    </tr>\n",
       "    <tr>\n",
       "      <th>3</th>\n",
       "      <td>D</td>\n",
       "      <td>305</td>\n",
       "      <td>42983</td>\n",
       "      <td>WE THE PEOPLE TRUST INTERNATIONAL</td>\n",
       "      <td>11111111</td>\n",
       "      <td>ABDULLAYA TENYI</td>\n",
       "      <td>TRUSTEE</td>\n",
       "      <td>RUE AEROTRANSIT MATOTOE</td>\n",
       "      <td>None</td>\n",
       "      <td>CONAKRY, GUINEA</td>\n",
       "      <td>CA</td>\n",
       "      <td>95001</td>\n",
       "      <td>None</td>\n",
       "    </tr>\n",
       "    <tr>\n",
       "      <th>4</th>\n",
       "      <td>D</td>\n",
       "      <td>305</td>\n",
       "      <td>42984</td>\n",
       "      <td>WE THE PEOPLE TRUST INTERNATIONAL</td>\n",
       "      <td>11111111</td>\n",
       "      <td>SPENCER D. LEWIS</td>\n",
       "      <td>TRUSTEE</td>\n",
       "      <td>4935 N. JACK TONE RD.</td>\n",
       "      <td>None</td>\n",
       "      <td>STOCKTON</td>\n",
       "      <td>CA</td>\n",
       "      <td>95215</td>\n",
       "      <td>None</td>\n",
       "    </tr>\n",
       "  </tbody>\n",
       "</table>\n",
       "</div>"
      ],
      "text/plain": [
       "  record_type  form_id_number  director_id                           org_name  \\\n",
       "0           D             305        42980  WE THE PEOPLE TRUST INTERNATIONAL   \n",
       "1           D             305        42981  WE THE PEOPLE TRUST INTERNATIONAL   \n",
       "2           D             305        42982  WE THE PEOPLE TRUST INTERNATIONAL   \n",
       "3           D             305        42983  WE THE PEOPLE TRUST INTERNATIONAL   \n",
       "4           D             305        42984  WE THE PEOPLE TRUST INTERNATIONAL   \n",
       "\n",
       "        ein       entity_name entity_title         entity_address_1  \\\n",
       "0  11111111       RANDY POMBO      TRUSTEE    28375 S. CHRISMAN RD.   \n",
       "1  11111111    CLIVE WILSHIRE      TRUSTEE            38 CLEVES WAY   \n",
       "2  11111111    GEORGE GLADIUS      TRUSTEE        21 NO. SCHOOL ST.   \n",
       "3  11111111   ABDULLAYA TENYI      TRUSTEE  RUE AEROTRANSIT MATOTOE   \n",
       "4  11111111  SPENCER D. LEWIS      TRUSTEE    4935 N. JACK TONE RD.   \n",
       "\n",
       "  entity_address_2 entity_address_city entity_address_st  \\\n",
       "0             None               TRACY                CA   \n",
       "1             None             HAMPTON                CA   \n",
       "2             None                LODI                CA   \n",
       "3             None     CONAKRY, GUINEA                CA   \n",
       "4             None            STOCKTON                CA   \n",
       "\n",
       "  entity_address_zip_code entity_address_zip_code_ext  \n",
       "0                   95304                        None  \n",
       "1                   94001                        None  \n",
       "2                   95240                        None  \n",
       "3                   95001                        None  \n",
       "4                   95215                        None  "
      ]
     },
     "metadata": {},
     "output_type": "display_data"
    }
   ],
   "source": [
    "# cursor.execute('describe (select * from officers limit 5)')\n",
    "# cols = cursor.fetchall()\n",
    "cursor.execute('select * from officers limit 5')\n",
    "out = cursor.fetchall()\n",
    "display(pd.DataFrame(out,columns=[i[0] for i in cursor.description]))\n"
   ]
  },
  {
   "cell_type": "code",
   "execution_count": 127,
   "id": "6c9805ac-4d26-4be3-b150-db71043f4b5f",
   "metadata": {},
   "outputs": [],
   "source": [
    "num_fields = len(cursor.description)\n",
    "field_names = [i[0] for i in cursor.description]"
   ]
  },
  {
   "cell_type": "code",
   "execution_count": 129,
   "id": "e036473d-6771-42ea-8868-508fb470110d",
   "metadata": {},
   "outputs": [
    {
     "data": {
      "text/plain": [
       "['record_type',\n",
       " 'form_id_number',\n",
       " 'director_id',\n",
       " 'org_name',\n",
       " 'ein',\n",
       " 'entity_name',\n",
       " 'entity_title',\n",
       " 'entity_address_1',\n",
       " 'entity_address_2',\n",
       " 'entity_address_city',\n",
       " 'entity_address_st',\n",
       " 'entity_address_zip_code',\n",
       " 'entity_address_zip_code_ext']"
      ]
     },
     "execution_count": 129,
     "metadata": {},
     "output_type": "execute_result"
    }
   ],
   "source": [
    "field_names"
   ]
  },
  {
   "cell_type": "code",
   "execution_count": null,
   "id": "7aa792b5-f836-4dd0-80d1-615a4b8cb075",
   "metadata": {},
   "outputs": [],
   "source": [
    "cursor.execute('CREATE DATABASE political_influence')  # create a new 'testdb' database"
   ]
  },
  {
   "cell_type": "code",
   "execution_count": 20,
   "id": "eb427707-906e-49dd-845b-f6503f6818d9",
   "metadata": {},
   "outputs": [],
   "source": [
    "cnxn.close()  # close connection because we will be reconnecting to testdb"
   ]
  },
  {
   "cell_type": "code",
   "execution_count": 21,
   "id": "2c0af3cd-6957-4b88-847c-276b700ee925",
   "metadata": {},
   "outputs": [],
   "source": [
    "config['database'] = 'irs'  # add new database to config dict\n",
    "cnxn = mysql.connector.connect(**config)\n",
    "cursor = cnxn.cursor()"
   ]
  },
  {
   "cell_type": "code",
   "execution_count": 118,
   "id": "47ce6e21-cf0b-4424-abb1-1f8727b7039d",
   "metadata": {},
   "outputs": [
    {
     "data": {
      "text/html": [
       "<div>\n",
       "<style scoped>\n",
       "    .dataframe tbody tr th:only-of-type {\n",
       "        vertical-align: middle;\n",
       "    }\n",
       "\n",
       "    .dataframe tbody tr th {\n",
       "        vertical-align: top;\n",
       "    }\n",
       "\n",
       "    .dataframe thead th {\n",
       "        text-align: right;\n",
       "    }\n",
       "</style>\n",
       "<table border=\"1\" class=\"dataframe\">\n",
       "  <thead>\n",
       "    <tr style=\"text-align: right;\">\n",
       "      <th></th>\n",
       "      <th>record_type</th>\n",
       "      <th>form_id_number</th>\n",
       "      <th>director_id</th>\n",
       "      <th>org_name</th>\n",
       "      <th>ein</th>\n",
       "      <th>entity_name</th>\n",
       "      <th>entity_title</th>\n",
       "      <th>entity_address_1</th>\n",
       "      <th>entity_address_2</th>\n",
       "      <th>entity_address_city</th>\n",
       "      <th>entity_address_st</th>\n",
       "      <th>entity_address_zip_code</th>\n",
       "      <th>entity_address_zip_code_ext</th>\n",
       "    </tr>\n",
       "  </thead>\n",
       "  <tbody>\n",
       "    <tr>\n",
       "      <th>787</th>\n",
       "      <td>D</td>\n",
       "      <td>305.0</td>\n",
       "      <td>42980.0</td>\n",
       "      <td>WE THE PEOPLE TRUST INTERNATIONAL</td>\n",
       "      <td>011111111</td>\n",
       "      <td>RANDY POMBO</td>\n",
       "      <td>TRUSTEE</td>\n",
       "      <td>28375 S. CHRISMAN RD.</td>\n",
       "      <td>None</td>\n",
       "      <td>TRACY</td>\n",
       "      <td>CA</td>\n",
       "      <td>95304</td>\n",
       "      <td>None</td>\n",
       "    </tr>\n",
       "    <tr>\n",
       "      <th>788</th>\n",
       "      <td>D</td>\n",
       "      <td>305.0</td>\n",
       "      <td>42981.0</td>\n",
       "      <td>WE THE PEOPLE TRUST INTERNATIONAL</td>\n",
       "      <td>011111111</td>\n",
       "      <td>CLIVE WILSHIRE</td>\n",
       "      <td>TRUSTEE</td>\n",
       "      <td>38 CLEVES WAY</td>\n",
       "      <td>None</td>\n",
       "      <td>HAMPTON</td>\n",
       "      <td>CA</td>\n",
       "      <td>94001</td>\n",
       "      <td>None</td>\n",
       "    </tr>\n",
       "  </tbody>\n",
       "</table>\n",
       "</div>"
      ],
      "text/plain": [
       "    record_type  form_id_number  director_id  \\\n",
       "787           D           305.0      42980.0   \n",
       "788           D           305.0      42981.0   \n",
       "\n",
       "                              org_name        ein     entity_name  \\\n",
       "787  WE THE PEOPLE TRUST INTERNATIONAL  011111111     RANDY POMBO   \n",
       "788  WE THE PEOPLE TRUST INTERNATIONAL  011111111  CLIVE WILSHIRE   \n",
       "\n",
       "    entity_title       entity_address_1 entity_address_2 entity_address_city  \\\n",
       "787      TRUSTEE  28375 S. CHRISMAN RD.             None               TRACY   \n",
       "788      TRUSTEE          38 CLEVES WAY             None             HAMPTON   \n",
       "\n",
       "    entity_address_st entity_address_zip_code entity_address_zip_code_ext  \n",
       "787                CA                   95304                        None  \n",
       "788                CA                   94001                        None  "
      ]
     },
     "execution_count": 118,
     "metadata": {},
     "output_type": "execute_result"
    }
   ],
   "source": [
    "import pandas as pd\n",
    "df = pd.read_pickle('outputs/directorssample.pickle')\n",
    "df.head(2)"
   ]
  },
  {
   "cell_type": "code",
   "execution_count": null,
   "id": "c3bb1da7-42ca-4035-bf7d-dbd2489ede91",
   "metadata": {},
   "outputs": [],
   "source": []
  },
  {
   "cell_type": "code",
   "execution_count": 119,
   "id": "93ba2180-2b6e-4d56-86ee-de59675685b2",
   "metadata": {},
   "outputs": [],
   "source": [
    "cursor.execute('''\n",
    "                CREATE TABLE officers (\n",
    "                    record_type                     VARCHAR(4),\n",
    "                    form_id_number                  int,\n",
    "                    director_id                     int,\n",
    "                    org_name                        VARCHAR(256),\n",
    "                    ein                             int,\n",
    "                    entity_name                     VARCHAR(256),\n",
    "                    entity_title                    VARCHAR(256),\n",
    "                    entity_address_1                VARCHAR(256),\n",
    "                    entity_address_2                VARCHAR(256),\n",
    "                    entity_address_city             VARCHAR(256),\n",
    "                    entity_address_st               VARCHAR(16),\n",
    "                    entity_address_zip_code         VARCHAR(16),\n",
    "                    entity_address_zip_code_ext     VARCHAR(16)\n",
    "                )\n",
    "                '''\n",
    "              )\n",
    "\n",
    "cnxn.commit() "
   ]
  },
  {
   "cell_type": "code",
   "execution_count": 120,
   "id": "fe398996-b6f8-4b7b-8214-3eaa16c11f1b",
   "metadata": {},
   "outputs": [],
   "source": [
    "for col in df.columns: df[col] = df[col].astype(str)"
   ]
  },
  {
   "cell_type": "code",
   "execution_count": 121,
   "id": "04e60a48-8cd4-46f5-82a0-6ea0acc7cd21",
   "metadata": {},
   "outputs": [],
   "source": [
    "# first we setup our query\n",
    "query = '''\n",
    "INSERT INTO officers (record_type, form_id_number, director_id, org_name, ein, entity_name, entity_title, entity_address_1, entity_address_2,\n",
    "                      entity_address_city, entity_address_st, entity_address_zip_code, entity_address_zip_code_ext)\n",
    "         VALUES (%s, %s, %s, %s, %s, %s, %s, %s, %s, %s, %s, %s, %s)\n",
    "'''\n",
    "# then we execute with every row in our dataframe\n",
    "cursor.execute('truncate table officers')\n",
    "cursor.executemany(query, list(df.to_records(index=False)))\n",
    "cnxn.commit()  # and commit changes"
   ]
  },
  {
   "cell_type": "code",
   "execution_count": 108,
   "id": "0b162e46-94cc-4476-8603-472bc4b4dea6",
   "metadata": {},
   "outputs": [
    {
     "ename": "OperationalError",
     "evalue": "2055: Lost connection to MySQL server at '35.221.43.230:3306', system error: 1 [SSL: BAD_LENGTH] bad length (_ssl.c:2483)",
     "output_type": "error",
     "traceback": [
      "\u001b[0;31m---------------------------------------------------------------------------\u001b[0m",
      "\u001b[0;31mSSLError\u001b[0m                                  Traceback (most recent call last)",
      "\u001b[0;32m/opt/miniconda3/lib/python3.9/site-packages/mysql/connector/network.py\u001b[0m in \u001b[0;36msend_plain\u001b[0;34m(self, buf, packet_number, compressed_packet_number)\u001b[0m\n\u001b[1;32m    160\u001b[0m \u001b[0;34m\u001b[0m\u001b[0m\n\u001b[0;32m--> 161\u001b[0;31m         \u001b[0mpktnr\u001b[0m \u001b[0;34m=\u001b[0m \u001b[0mself\u001b[0m\u001b[0;34m.\u001b[0m\u001b[0m_packet_number\u001b[0m\u001b[0;34m\u001b[0m\u001b[0;34m\u001b[0m\u001b[0m\n\u001b[0m\u001b[1;32m    162\u001b[0m         \u001b[0mpllen\u001b[0m \u001b[0;34m=\u001b[0m \u001b[0mlen\u001b[0m\u001b[0;34m(\u001b[0m\u001b[0mbuf\u001b[0m\u001b[0;34m)\u001b[0m\u001b[0;34m\u001b[0m\u001b[0;34m\u001b[0m\u001b[0m\n",
      "\u001b[0;32m/opt/miniconda3/lib/python3.9/ssl.py\u001b[0m in \u001b[0;36msendall\u001b[0;34m(self, data, flags)\u001b[0m\n\u001b[1;32m   1203\u001b[0m                 \u001b[0;32mwhile\u001b[0m \u001b[0mcount\u001b[0m \u001b[0;34m<\u001b[0m \u001b[0mamount\u001b[0m\u001b[0;34m:\u001b[0m\u001b[0;34m\u001b[0m\u001b[0;34m\u001b[0m\u001b[0m\n\u001b[0;32m-> 1204\u001b[0;31m                     \u001b[0mv\u001b[0m \u001b[0;34m=\u001b[0m \u001b[0mself\u001b[0m\u001b[0;34m.\u001b[0m\u001b[0msend\u001b[0m\u001b[0;34m(\u001b[0m\u001b[0mbyte_view\u001b[0m\u001b[0;34m[\u001b[0m\u001b[0mcount\u001b[0m\u001b[0;34m:\u001b[0m\u001b[0;34m]\u001b[0m\u001b[0;34m)\u001b[0m\u001b[0;34m\u001b[0m\u001b[0;34m\u001b[0m\u001b[0m\n\u001b[0m\u001b[1;32m   1205\u001b[0m                     \u001b[0mcount\u001b[0m \u001b[0;34m+=\u001b[0m \u001b[0mv\u001b[0m\u001b[0;34m\u001b[0m\u001b[0;34m\u001b[0m\u001b[0m\n",
      "\u001b[0;32m/opt/miniconda3/lib/python3.9/ssl.py\u001b[0m in \u001b[0;36msend\u001b[0;34m(self, data, flags)\u001b[0m\n\u001b[1;32m   1172\u001b[0m                     self.__class__)\n\u001b[0;32m-> 1173\u001b[0;31m             \u001b[0;32mreturn\u001b[0m \u001b[0mself\u001b[0m\u001b[0;34m.\u001b[0m\u001b[0m_sslobj\u001b[0m\u001b[0;34m.\u001b[0m\u001b[0mwrite\u001b[0m\u001b[0;34m(\u001b[0m\u001b[0mdata\u001b[0m\u001b[0;34m)\u001b[0m\u001b[0;34m\u001b[0m\u001b[0;34m\u001b[0m\u001b[0m\n\u001b[0m\u001b[1;32m   1174\u001b[0m         \u001b[0;32melse\u001b[0m\u001b[0;34m:\u001b[0m\u001b[0;34m\u001b[0m\u001b[0;34m\u001b[0m\u001b[0m\n",
      "\u001b[0;31mSSLError\u001b[0m: [SSL: BAD_LENGTH] bad length (_ssl.c:2483)",
      "\nDuring handling of the above exception, another exception occurred:\n",
      "\u001b[0;31mOperationalError\u001b[0m                          Traceback (most recent call last)",
      "\u001b[0;32m/var/folders/tk/r2w0qvjj751gxhj5fqglgrtm0000gn/T/ipykernel_39541/432248254.py\u001b[0m in \u001b[0;36m<module>\u001b[0;34m\u001b[0m\n\u001b[1;32m      1\u001b[0m \u001b[0;31m# cursor.execute('describe (select * from officers limit 5)')\u001b[0m\u001b[0;34m\u001b[0m\u001b[0;34m\u001b[0m\u001b[0;34m\u001b[0m\u001b[0m\n\u001b[1;32m      2\u001b[0m \u001b[0;31m# cols = cursor.fetchall()\u001b[0m\u001b[0;34m\u001b[0m\u001b[0;34m\u001b[0m\u001b[0;34m\u001b[0m\u001b[0m\n\u001b[0;32m----> 3\u001b[0;31m \u001b[0mcursor\u001b[0m\u001b[0;34m.\u001b[0m\u001b[0mexecute\u001b[0m\u001b[0;34m(\u001b[0m\u001b[0;34m'select * from officers limit 5'\u001b[0m\u001b[0;34m)\u001b[0m\u001b[0;34m\u001b[0m\u001b[0;34m\u001b[0m\u001b[0m\n\u001b[0m\u001b[1;32m      4\u001b[0m \u001b[0mout\u001b[0m \u001b[0;34m=\u001b[0m \u001b[0mcursor\u001b[0m\u001b[0;34m.\u001b[0m\u001b[0mfetchall\u001b[0m\u001b[0;34m(\u001b[0m\u001b[0;34m)\u001b[0m\u001b[0;34m\u001b[0m\u001b[0;34m\u001b[0m\u001b[0m\n\u001b[1;32m      5\u001b[0m \u001b[0mpd\u001b[0m\u001b[0;34m.\u001b[0m\u001b[0mDataFrame\u001b[0m\u001b[0;34m(\u001b[0m\u001b[0mout\u001b[0m\u001b[0;34m,\u001b[0m\u001b[0mcolumns\u001b[0m\u001b[0;34m=\u001b[0m\u001b[0;34m[\u001b[0m\u001b[0mo\u001b[0m\u001b[0;34m[\u001b[0m\u001b[0;36m0\u001b[0m\u001b[0;34m]\u001b[0m \u001b[0;32mfor\u001b[0m \u001b[0mo\u001b[0m \u001b[0;32min\u001b[0m \u001b[0mcols\u001b[0m\u001b[0;34m]\u001b[0m\u001b[0;34m)\u001b[0m\u001b[0;34m\u001b[0m\u001b[0;34m\u001b[0m\u001b[0m\n",
      "\u001b[0;32m/opt/miniconda3/lib/python3.9/site-packages/mysql/connector/cursor.py\u001b[0m in \u001b[0;36mexecute\u001b[0;34m(self, operation, params, multi)\u001b[0m\n\u001b[1;32m    566\u001b[0m             \u001b[0mby\u001b[0m \u001b[0mquotes\u001b[0m\u001b[0;34m,\u001b[0m \u001b[0mit\u001b[0m \u001b[0mreturns\u001b[0m \u001b[0man\u001b[0m \u001b[0mempty\u001b[0m \u001b[0mstring\u001b[0m\u001b[0;34m,\u001b[0m \u001b[0;32melse\u001b[0m \u001b[0mthe\u001b[0m \u001b[0mstring\u001b[0m \u001b[0mitself\u001b[0m\u001b[0;34m.\u001b[0m\u001b[0;34m\u001b[0m\u001b[0;34m\u001b[0m\u001b[0m\n\u001b[1;32m    567\u001b[0m             \"\"\"\n\u001b[0;32m--> 568\u001b[0;31m             \u001b[0;32mif\u001b[0m \u001b[0mmatch\u001b[0m\u001b[0;34m.\u001b[0m\u001b[0mgroup\u001b[0m\u001b[0;34m(\u001b[0m\u001b[0;36m1\u001b[0m\u001b[0;34m)\u001b[0m\u001b[0;34m:\u001b[0m\u001b[0;34m\u001b[0m\u001b[0;34m\u001b[0m\u001b[0m\n\u001b[0m\u001b[1;32m    569\u001b[0m                 \u001b[0;32mreturn\u001b[0m \u001b[0;34m\"\"\u001b[0m\u001b[0;34m\u001b[0m\u001b[0;34m\u001b[0m\u001b[0m\n\u001b[1;32m    570\u001b[0m             \u001b[0;32melse\u001b[0m\u001b[0;34m:\u001b[0m\u001b[0;34m\u001b[0m\u001b[0;34m\u001b[0m\u001b[0m\n",
      "\u001b[0;32m/opt/miniconda3/lib/python3.9/site-packages/mysql/connector/connection.py\u001b[0m in \u001b[0;36mcmd_query\u001b[0;34m(self, query, raw, buffered, raw_as_string)\u001b[0m\n\u001b[1;32m    844\u001b[0m         \u001b[0;32mexcept\u001b[0m \u001b[0mKeyError\u001b[0m\u001b[0;34m:\u001b[0m\u001b[0;34m\u001b[0m\u001b[0;34m\u001b[0m\u001b[0m\n\u001b[1;32m    845\u001b[0m             \u001b[0margs\u001b[0m \u001b[0;34m=\u001b[0m \u001b[0;34m(\u001b[0m\u001b[0;34m'buffered'\u001b[0m\u001b[0;34m,\u001b[0m \u001b[0;34m'raw'\u001b[0m\u001b[0;34m,\u001b[0m \u001b[0;34m'dictionary'\u001b[0m\u001b[0;34m,\u001b[0m \u001b[0;34m'named_tuple'\u001b[0m\u001b[0;34m,\u001b[0m \u001b[0;34m'prepared'\u001b[0m\u001b[0;34m)\u001b[0m\u001b[0;34m\u001b[0m\u001b[0;34m\u001b[0m\u001b[0m\n\u001b[0;32m--> 846\u001b[0;31m             raise ValueError('Cursor not available with given criteria: ' +\n\u001b[0m\u001b[1;32m    847\u001b[0m                              ', '.join([args[i] for i in range(5)\n\u001b[1;32m    848\u001b[0m                                         if cursor_type & (1 << i) != 0]))\n",
      "\u001b[0;32m/opt/miniconda3/lib/python3.9/site-packages/mysql/connector/connection.py\u001b[0m in \u001b[0;36m_send_cmd\u001b[0;34m(self, command, argument, packet_number, packet, expect_response, compressed_packet_number)\u001b[0m\n\u001b[1;32m    491\u001b[0m \u001b[0;34m\u001b[0m\u001b[0m\n\u001b[1;32m    492\u001b[0m         \u001b[0;32mif\u001b[0m \u001b[0mself\u001b[0m\u001b[0;34m.\u001b[0m\u001b[0m_have_next_result\u001b[0m\u001b[0;34m:\u001b[0m\u001b[0;34m\u001b[0m\u001b[0;34m\u001b[0m\u001b[0m\n\u001b[0;32m--> 493\u001b[0;31m             raise errors.InterfaceError(\n\u001b[0m\u001b[1;32m    494\u001b[0m                 'Use cmd_query_iter for statements with multiple queries.')\n\u001b[1;32m    495\u001b[0m \u001b[0;34m\u001b[0m\u001b[0m\n",
      "\u001b[0;32m/opt/miniconda3/lib/python3.9/site-packages/mysql/connector/network.py\u001b[0m in \u001b[0;36msend_plain\u001b[0;34m(self, buf, packet_number, compressed_packet_number)\u001b[0m\n\u001b[1;32m    161\u001b[0m         \u001b[0mpktnr\u001b[0m \u001b[0;34m=\u001b[0m \u001b[0mself\u001b[0m\u001b[0;34m.\u001b[0m\u001b[0m_packet_number\u001b[0m\u001b[0;34m\u001b[0m\u001b[0;34m\u001b[0m\u001b[0m\n\u001b[1;32m    162\u001b[0m         \u001b[0mpllen\u001b[0m \u001b[0;34m=\u001b[0m \u001b[0mlen\u001b[0m\u001b[0;34m(\u001b[0m\u001b[0mbuf\u001b[0m\u001b[0;34m)\u001b[0m\u001b[0;34m\u001b[0m\u001b[0;34m\u001b[0m\u001b[0m\n\u001b[0;32m--> 163\u001b[0;31m         \u001b[0mzpkts\u001b[0m \u001b[0;34m=\u001b[0m \u001b[0;34m[\u001b[0m\u001b[0;34m]\u001b[0m\u001b[0;34m\u001b[0m\u001b[0;34m\u001b[0m\u001b[0m\n\u001b[0m\u001b[1;32m    164\u001b[0m         \u001b[0mmaxpktlen\u001b[0m \u001b[0;34m=\u001b[0m \u001b[0mconstants\u001b[0m\u001b[0;34m.\u001b[0m\u001b[0mMAX_PACKET_LENGTH\u001b[0m\u001b[0;34m\u001b[0m\u001b[0;34m\u001b[0m\u001b[0m\n\u001b[1;32m    165\u001b[0m         \u001b[0;32mif\u001b[0m \u001b[0mpllen\u001b[0m \u001b[0;34m>\u001b[0m \u001b[0mmaxpktlen\u001b[0m\u001b[0;34m:\u001b[0m\u001b[0;34m\u001b[0m\u001b[0;34m\u001b[0m\u001b[0m\n",
      "\u001b[0;31mOperationalError\u001b[0m: 2055: Lost connection to MySQL server at '35.221.43.230:3306', system error: 1 [SSL: BAD_LENGTH] bad length (_ssl.c:2483)"
     ]
    }
   ],
   "source": [
    "# cursor.execute('describe (select * from officers limit 5)')\n",
    "# cols = cursor.fetchall()\n",
    "cursor.execute('select * from officers limit 5')\n",
    "out = cursor.fetchall()\n",
    "pd.DataFrame(out,columns=[o[0] for o in cols])"
   ]
  },
  {
   "cell_type": "code",
   "execution_count": null,
   "id": "4422afba-8b96-4dd5-a748-11d383197b31",
   "metadata": {},
   "outputs": [],
   "source": []
  },
  {
   "cell_type": "code",
   "execution_count": null,
   "id": "04c68b7c-664c-432d-a21a-9068ec3892e5",
   "metadata": {},
   "outputs": [],
   "source": []
  },
  {
   "cell_type": "code",
   "execution_count": null,
   "id": "bf36b78a-4fa2-4321-b197-e0ad549f3452",
   "metadata": {},
   "outputs": [],
   "source": []
  }
 ],
 "metadata": {
  "kernelspec": {
   "display_name": "Python 3 (ipykernel)",
   "language": "python",
   "name": "python3"
  },
  "language_info": {
   "codemirror_mode": {
    "name": "ipython",
    "version": 3
   },
   "file_extension": ".py",
   "mimetype": "text/x-python",
   "name": "python",
   "nbconvert_exporter": "python",
   "pygments_lexer": "ipython3",
   "version": "3.9.5"
  },
  "toc-autonumbering": true,
  "toc-showcode": true
 },
 "nbformat": 4,
 "nbformat_minor": 5
}

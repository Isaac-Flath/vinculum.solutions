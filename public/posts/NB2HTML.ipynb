{
 "cells": [
  {
   "cell_type": "code",
   "execution_count": 24,
   "id": "4ddcc98a",
   "metadata": {},
   "outputs": [],
   "source": [
    "import os\n",
    "from fastcore.foundation import *"
   ]
  },
  {
   "cell_type": "code",
   "execution_count": 25,
   "id": "6f61acde",
   "metadata": {},
   "outputs": [
    {
     "name": "stderr",
     "output_type": "stream",
     "text": [
      "[NbConvertApp] Converting notebook ./notebooks/2021-09-25-527 IRS Filings Data.ipynb to html\n",
      "[NbConvertApp] Writing 633492 bytes to notebooks/2021-09-25-527 IRS Filings Data.html\n"
     ]
    }
   ],
   "source": [
    "def nb_to_post(input_path='./notebooks',output_path='./html'):\n",
    "    os.system(f\"rm ./{output_path}/*.html\")\n",
    "    os.system(f'jupyter nbconvert --to html {input_path}/*.ipynb') # eventually --template basic then css style\n",
    "    os.system(f\"mv ./{input_path}/*.html ./{output_path}/\")\n",
    "    \n",
    "nb_to_post()"
   ]
  },
  {
   "cell_type": "code",
   "execution_count": 26,
   "id": "628e36a2",
   "metadata": {},
   "outputs": [],
   "source": [
    "directory = './html'\n",
    "\n",
    "posts = L(os.listdir(directory))\n",
    "posts.sort(reverse=True)       "
   ]
  },
  {
   "cell_type": "code",
   "execution_count": 27,
   "id": "41db4b53",
   "metadata": {},
   "outputs": [],
   "source": [
    "for post in [o for o in posts if o[-5:]=='.html']:\n",
    "\n",
    "    with open(f\"./html/{post}\") as file: htmlfile = file.read()\n",
    "\n",
    "    section1 = htmlfile[:htmlfile.find(\"</body>\")]\n",
    "    section2 = htmlfile[htmlfile.find(\"</body>\"):]\n",
    "    new_section = '''\\n\\n<script src=\"postformatting.js\"></script>\\n\\n'''\n",
    "\n",
    "    new_html = section1+new_section+section2\n",
    "    \n",
    "    with open(f\"./html/{post}\",'w') as file: file.write(new_html)\n"
   ]
  },
  {
   "cell_type": "code",
   "execution_count": 28,
   "id": "49721450",
   "metadata": {},
   "outputs": [],
   "source": [
    "def get_slice(file,start_str,end_str):\n",
    "    with open(file) as f:\n",
    "        tmp = f.read()    \n",
    "    slice1 = tmp[tmp.find(start_str)+len(start_str):]\n",
    "    out = slice1[:slice1.find(end_str)]\n",
    "    return out"
   ]
  },
  {
   "cell_type": "code",
   "execution_count": 29,
   "id": "9ebee971",
   "metadata": {},
   "outputs": [],
   "source": [
    "htmls = []\n",
    "for post in posts:\n",
    "    if post[-5:] != '.html': continue\n",
    "    date = post[:10]\n",
    "    \n",
    "    name_tmp = post[11:-5]\n",
    "    name = ''\n",
    "    for i, letter in enumerate(name_tmp):\n",
    "        if i and letter.isupper() and not name_tmp[i-1].isupper():\n",
    "            name += ' '\n",
    "        \n",
    "        name += letter  \n",
    "    description = get_slice(f'html/{post}','Post Description:</strong> ','</p>')\n",
    "    tags = get_slice(f'html/{post}','Post Categories:</strong> ','</p>')\n",
    "\n",
    "    htmls.append('<div class=\"smallblogdiv\">')\n",
    "    htmls.append(f'''<a class=\"postlink\" href=\"./posts/html/{post}\">{name}</a>''')\n",
    "    htmls.append(f'''<p class=\"postdescription\">{description}</p>''')\n",
    "    htmls.append(f'''<p class=\"posttags\">Tags: {tags}</p>''')\n",
    "    htmls.append(f'''<p class=\"postdate\">{date}</p>''')\n",
    "    htmls.append('''</div>''')\n",
    "htmls = '\\n              '.join(htmls)"
   ]
  },
  {
   "cell_type": "code",
   "execution_count": null,
   "id": "9a2f8e1d",
   "metadata": {},
   "outputs": [],
   "source": []
  },
  {
   "cell_type": "code",
   "execution_count": 30,
   "id": "cefca0d3",
   "metadata": {},
   "outputs": [],
   "source": [
    "with open(\"blog_template.html\") as f: tmp = f.read()\n",
    "tmp = tmp.replace('AUTOINSERTIONPOINT',htmls)\n",
    "with open(\"../blog.html\",'w') as f: f.write(tmp)"
   ]
  },
  {
   "cell_type": "code",
   "execution_count": null,
   "id": "ddb01f0b",
   "metadata": {},
   "outputs": [],
   "source": [
    "#gsutil -m rsync -d -r public/ gs://vinculum.solutions/"
   ]
  },
  {
   "cell_type": "markdown",
   "id": "4bf6567e",
   "metadata": {},
   "source": [
    "# Formatting Header INfo"
   ]
  },
  {
   "cell_type": "code",
   "execution_count": 350,
   "id": "1cc0b417",
   "metadata": {},
   "outputs": [],
   "source": [
    "# from nbdev.export import read_nb\n",
    "# import re\n",
    "# import os, json, copy\n"
   ]
  },
  {
   "cell_type": "code",
   "execution_count": 351,
   "id": "1b8d4358",
   "metadata": {},
   "outputs": [],
   "source": [
    "# nbpath = './notebooks/'+posts[11][:-4]+'ipynb'\n",
    "# nbpath"
   ]
  },
  {
   "cell_type": "code",
   "execution_count": 352,
   "id": "478c9a26",
   "metadata": {},
   "outputs": [],
   "source": [
    "# for post in posts[35:]:\n",
    "#     if post[-5:] != '.html': continue\n",
    "#     nbpath = './notebooks/'+post[:-4]+'ipynb'\n",
    "    \n",
    "#     tmp = read_nb(nbpath)\n",
    "\n",
    "#     header_cell = tmp['cells'][0]['source']\n",
    "#     title = re.search('#.+\\n',header_cell).group()\n",
    "\n",
    "#     desc = re.search('>.+\\n',header_cell).group().replace('> ','')\n",
    "#     desc = \"**Post Description:** \" + desc\n",
    "\n",
    "#     tmp1 = re.search('categories: \\[.+\\n',header_cell)\n",
    "#     if not tmp1: categories = re.search('categories: \\[.+',header_cell).group()\n",
    "#     else: categories = tmp1.group()\n",
    "#     categories = \"**Post Categories:** \" + categories.replace('categories: [','').replace(']','').replace(',',' | ')\n",
    "    \n",
    "#     tmp['cells'][0]['source'] = title + '\\n' + desc + '\\n' + categories\n",
    "    \n",
    "#     with open(nbpath,'w') as file: file.write(json.dumps(tmp))"
   ]
  },
  {
   "cell_type": "code",
   "execution_count": 353,
   "id": "298438fc",
   "metadata": {},
   "outputs": [],
   "source": [
    "# categories"
   ]
  },
  {
   "cell_type": "code",
   "execution_count": 354,
   "id": "98b268c5",
   "metadata": {},
   "outputs": [],
   "source": [
    "# posts[35:]"
   ]
  },
  {
   "cell_type": "code",
   "execution_count": 355,
   "id": "9f3560dd",
   "metadata": {},
   "outputs": [],
   "source": [
    "# print(title + '\\n' + desc + '\\n' + categories)"
   ]
  },
  {
   "cell_type": "code",
   "execution_count": null,
   "id": "2afe6bb3",
   "metadata": {},
   "outputs": [],
   "source": []
  },
  {
   "cell_type": "code",
   "execution_count": 356,
   "id": "b96516f1",
   "metadata": {},
   "outputs": [],
   "source": [
    "# tmp['cells'][0]['source']"
   ]
  },
  {
   "cell_type": "code",
   "execution_count": null,
   "id": "a540fd97",
   "metadata": {},
   "outputs": [],
   "source": []
  },
  {
   "cell_type": "code",
   "execution_count": 303,
   "id": "bbb03551",
   "metadata": {},
   "outputs": [],
   "source": []
  },
  {
   "cell_type": "code",
   "execution_count": null,
   "id": "81df1bdb",
   "metadata": {},
   "outputs": [],
   "source": []
  }
 ],
 "metadata": {
  "kernelspec": {
   "display_name": "Python 3 (ipykernel)",
   "language": "python",
   "name": "python3"
  },
  "language_info": {
   "codemirror_mode": {
    "name": "ipython",
    "version": 3
   },
   "file_extension": ".py",
   "mimetype": "text/x-python",
   "name": "python",
   "nbconvert_exporter": "python",
   "pygments_lexer": "ipython3",
   "version": "3.9.5"
  }
 },
 "nbformat": 4,
 "nbformat_minor": 5
}
